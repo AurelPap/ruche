{
 "cells": [
  {
   "cell_type": "code",
   "execution_count": 1,
   "metadata": {},
   "outputs": [],
   "source": [
    "from pymongo import MongoClient\n",
    "import numpy as np\n",
    "import json\n",
    "import pandas as pd\n",
    "import matplotlib.pyplot as plt\n",
    "import seaborn as sns\n",
    "import random\n",
    "import math"
   ]
  },
  {
   "cell_type": "code",
   "execution_count": 2,
   "metadata": {},
   "outputs": [],
   "source": [
    "def distance_entre_2_points(point_1, point_2):\n",
    "    # On definit les coordonnées des points\n",
    "    x1, y1 = point_1\n",
    "    x2, y2 = point_2\n",
    "    \n",
    "    # On calcule et on retourne la valeur de la distance entre les 2 points\n",
    "    distance = math.sqrt((x2-x1)**2 + (y2-y1)**2)\n",
    "    return distance"
   ]
  },
  {
   "cell_type": "code",
   "execution_count": 5,
   "metadata": {},
   "outputs": [],
   "source": [
    "class Abeille:\n",
    "    point_depart = (500,500)\n",
    "    distance = 0\n",
    "    \n",
    "    def __init__(self, trajet):\n",
    "        self.trajet = trajet\n",
    "        \n",
    "    def calcul_distance(trajet):\n",
    "        for i, point in enumerate(trajet):\n",
    "            if i == 0:\n",
    "                point_precedent = point_depart\n",
    "            else:\n",
    "                point_precedent = trajet[i - 1]\n",
    "            distance += distance_entre_2_points(point_precedent, point)\n",
    "        return distance\n",
    "        "
   ]
  },
  {
   "cell_type": "code",
   "execution_count": null,
   "metadata": {},
   "outputs": [],
   "source": []
  }
 ],
 "metadata": {
  "kernelspec": {
   "display_name": "Python 3",
   "language": "python",
   "name": "python3"
  },
  "language_info": {
   "codemirror_mode": {
    "name": "ipython",
    "version": 3
   },
   "file_extension": ".py",
   "mimetype": "text/x-python",
   "name": "python",
   "nbconvert_exporter": "python",
   "pygments_lexer": "ipython3",
   "version": "3.12.0"
  }
 },
 "nbformat": 4,
 "nbformat_minor": 2
}
